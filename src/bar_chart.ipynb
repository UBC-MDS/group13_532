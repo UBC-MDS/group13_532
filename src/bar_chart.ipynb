{
 "cells": [
  {
   "cell_type": "code",
   "execution_count": 1,
   "id": "f989e161-284c-4de8-bc0d-cf4698bb3947",
   "metadata": {},
   "outputs": [],
   "source": [
    "import altair as alt\n",
    "import pandas as pd\n",
    "from dash import Dash, html, dcc, Input, Output"
   ]
  },
  {
   "cell_type": "code",
   "execution_count": 2,
   "id": "c4a53bc5-e932-4cdf-93e6-2ab74a1613db",
   "metadata": {},
   "outputs": [],
   "source": [
    "df = pd.read_csv(\"../data/processed/clean_df.csv\")"
   ]
  },
  {
   "cell_type": "code",
   "execution_count": 3,
   "id": "0222fd9a-9d3e-4907-8be9-d8267da18d54",
   "metadata": {},
   "outputs": [
    {
     "name": "stderr",
     "output_type": "stream",
     "text": [
      "/var/folders/gh/xb22d2d96ws59gxrvc0knjdw0000gp/T/ipykernel_19491/4183533263.py:3: SettingWithCopyWarning: \n",
      "A value is trying to be set on a copy of a slice from a DataFrame\n",
      "\n",
      "See the caveats in the documentation: https://pandas.pydata.org/pandas-docs/stable/user_guide/indexing.html#returning-a-view-versus-a-copy\n",
      "  df['duration'][i] = int(movie[0])\n"
     ]
    }
   ],
   "source": [
    "df = df.copy()\n",
    "for i, movie in enumerate(df['duration'].str.split()):\n",
    "    df['duration'][i] = int(movie[0])\n",
    "    "
   ]
  },
  {
   "cell_type": "code",
   "execution_count": 70,
   "id": "8b8439f8-c6c3-4eda-a6e4-d71661a28ba1",
   "metadata": {},
   "outputs": [
    {
     "data": {
      "text/plain": [
       "95"
      ]
     },
     "execution_count": 70,
     "metadata": {},
     "output_type": "execute_result"
    }
   ],
   "source": [
    "len(df.assign(country=df[\"country\"].str.split(\", \")).explode(\"country\").dropna()['country'].unique())"
   ]
  },
  {
   "cell_type": "code",
   "execution_count": 75,
   "id": "6001d9b8-d9bf-4d91-b392-1046a60fdf9d",
   "metadata": {},
   "outputs": [
    {
     "data": {
      "text/plain": [
       "12"
      ]
     },
     "execution_count": 75,
     "metadata": {},
     "output_type": "execute_result"
    }
   ],
   "source": [
    "min(df['duration'])"
   ]
  },
  {
   "cell_type": "code",
   "execution_count": 76,
   "id": "c11af1aa-019c-430f-a0f2-06faa4d0de5d",
   "metadata": {},
   "outputs": [
    {
     "data": {
      "text/plain": [
       "224"
      ]
     },
     "execution_count": 76,
     "metadata": {},
     "output_type": "execute_result"
    }
   ],
   "source": [
    "max(df['duration'])"
   ]
  },
  {
   "cell_type": "code",
   "execution_count": 4,
   "id": "e5602853-c7bc-4af8-82bd-7921d0a3f5fa",
   "metadata": {},
   "outputs": [],
   "source": [
    "df = df.assign(country=df[\"country\"].str.split(\", \")).explode(\"country\").dropna()"
   ]
  },
  {
   "cell_type": "code",
   "execution_count": 5,
   "id": "03f2807c-daba-4b13-80c3-03e965854901",
   "metadata": {},
   "outputs": [
    {
     "data": {
      "text/html": [
       "<div>\n",
       "<style scoped>\n",
       "    .dataframe tbody tr th:only-of-type {\n",
       "        vertical-align: middle;\n",
       "    }\n",
       "\n",
       "    .dataframe tbody tr th {\n",
       "        vertical-align: top;\n",
       "    }\n",
       "\n",
       "    .dataframe thead th {\n",
       "        text-align: right;\n",
       "    }\n",
       "</style>\n",
       "<table border=\"1\" class=\"dataframe\">\n",
       "  <thead>\n",
       "    <tr style=\"text-align: right;\">\n",
       "      <th></th>\n",
       "      <th>Unnamed: 0</th>\n",
       "      <th>show_id</th>\n",
       "      <th>title</th>\n",
       "      <th>director</th>\n",
       "      <th>cast</th>\n",
       "      <th>country</th>\n",
       "      <th>date_added</th>\n",
       "      <th>release_year</th>\n",
       "      <th>rating</th>\n",
       "      <th>duration</th>\n",
       "      <th>listed_in</th>\n",
       "      <th>description</th>\n",
       "      <th>type</th>\n",
       "    </tr>\n",
       "  </thead>\n",
       "  <tbody>\n",
       "    <tr>\n",
       "      <th>1</th>\n",
       "      <td>2</td>\n",
       "      <td>81213894</td>\n",
       "      <td>The Zoya Factor</td>\n",
       "      <td>Abhishek Sharma</td>\n",
       "      <td>Sonam Kapoor, Dulquer Salmaan, Sanjay Kapoor, ...</td>\n",
       "      <td>India</td>\n",
       "      <td>November 30, 2019</td>\n",
       "      <td>2019</td>\n",
       "      <td>TV-14</td>\n",
       "      <td>135</td>\n",
       "      <td>Comedies, Dramas, International Movies</td>\n",
       "      <td>A goofy copywriter unwittingly convinces the I...</td>\n",
       "      <td>Movie</td>\n",
       "    </tr>\n",
       "    <tr>\n",
       "      <th>2</th>\n",
       "      <td>3</td>\n",
       "      <td>81082007</td>\n",
       "      <td>Atlantics</td>\n",
       "      <td>Mati Diop</td>\n",
       "      <td>Mama Sane, Amadou Mbow, Ibrahima Traore, Nicol...</td>\n",
       "      <td>France</td>\n",
       "      <td>November 29, 2019</td>\n",
       "      <td>2019</td>\n",
       "      <td>TV-14</td>\n",
       "      <td>106</td>\n",
       "      <td>Dramas, Independent Movies, International Movies</td>\n",
       "      <td>Arranged to marry a rich man, young Ada is cru...</td>\n",
       "      <td>Movie</td>\n",
       "    </tr>\n",
       "    <tr>\n",
       "      <th>2</th>\n",
       "      <td>3</td>\n",
       "      <td>81082007</td>\n",
       "      <td>Atlantics</td>\n",
       "      <td>Mati Diop</td>\n",
       "      <td>Mama Sane, Amadou Mbow, Ibrahima Traore, Nicol...</td>\n",
       "      <td>Senegal</td>\n",
       "      <td>November 29, 2019</td>\n",
       "      <td>2019</td>\n",
       "      <td>TV-14</td>\n",
       "      <td>106</td>\n",
       "      <td>Dramas, Independent Movies, International Movies</td>\n",
       "      <td>Arranged to marry a rich man, young Ada is cru...</td>\n",
       "      <td>Movie</td>\n",
       "    </tr>\n",
       "    <tr>\n",
       "      <th>2</th>\n",
       "      <td>3</td>\n",
       "      <td>81082007</td>\n",
       "      <td>Atlantics</td>\n",
       "      <td>Mati Diop</td>\n",
       "      <td>Mama Sane, Amadou Mbow, Ibrahima Traore, Nicol...</td>\n",
       "      <td>Belgium</td>\n",
       "      <td>November 29, 2019</td>\n",
       "      <td>2019</td>\n",
       "      <td>TV-14</td>\n",
       "      <td>106</td>\n",
       "      <td>Dramas, Independent Movies, International Movies</td>\n",
       "      <td>Arranged to marry a rich man, young Ada is cru...</td>\n",
       "      <td>Movie</td>\n",
       "    </tr>\n",
       "    <tr>\n",
       "      <th>3</th>\n",
       "      <td>5</td>\n",
       "      <td>81172754</td>\n",
       "      <td>Crazy people</td>\n",
       "      <td>Moses Inwang</td>\n",
       "      <td>Ramsey Nouah, Chigul, Sola Sobowale, Ireti Doy...</td>\n",
       "      <td>Nigeria</td>\n",
       "      <td>November 29, 2019</td>\n",
       "      <td>2018</td>\n",
       "      <td>TV-14</td>\n",
       "      <td>107</td>\n",
       "      <td>Comedies, International Movies, Thrillers</td>\n",
       "      <td>Nollywood star Ramsey Nouah learns that someon...</td>\n",
       "      <td>Movie</td>\n",
       "    </tr>\n",
       "    <tr>\n",
       "      <th>...</th>\n",
       "      <td>...</td>\n",
       "      <td>...</td>\n",
       "      <td>...</td>\n",
       "      <td>...</td>\n",
       "      <td>...</td>\n",
       "      <td>...</td>\n",
       "      <td>...</td>\n",
       "      <td>...</td>\n",
       "      <td>...</td>\n",
       "      <td>...</td>\n",
       "      <td>...</td>\n",
       "      <td>...</td>\n",
       "      <td>...</td>\n",
       "    </tr>\n",
       "    <tr>\n",
       "      <th>3934</th>\n",
       "      <td>5831</td>\n",
       "      <td>70154110</td>\n",
       "      <td>Even the Rain</td>\n",
       "      <td>Icíar Bollaín</td>\n",
       "      <td>Luis Tosar, Gael García Bernal, Juan Carlos Ad...</td>\n",
       "      <td>France</td>\n",
       "      <td>May 17, 2011</td>\n",
       "      <td>2010</td>\n",
       "      <td>NR</td>\n",
       "      <td>103</td>\n",
       "      <td>Dramas, International Movies</td>\n",
       "      <td>While making a film about the incursion of Chr...</td>\n",
       "      <td>Movie</td>\n",
       "    </tr>\n",
       "    <tr>\n",
       "      <th>3935</th>\n",
       "      <td>5832</td>\n",
       "      <td>70141644</td>\n",
       "      <td>Mad Ron's Prevues from Hell</td>\n",
       "      <td>Jim Monaco</td>\n",
       "      <td>Nick Pawlow, Jordu Schell, Jay Kushwara, Micha...</td>\n",
       "      <td>United States</td>\n",
       "      <td>November 1, 2010</td>\n",
       "      <td>1987</td>\n",
       "      <td>NR</td>\n",
       "      <td>84</td>\n",
       "      <td>Cult Movies, Horror Movies</td>\n",
       "      <td>This collection cherry-picks trailers, forgott...</td>\n",
       "      <td>Movie</td>\n",
       "    </tr>\n",
       "    <tr>\n",
       "      <th>3936</th>\n",
       "      <td>5833</td>\n",
       "      <td>70127998</td>\n",
       "      <td>Splatter</td>\n",
       "      <td>Joe Dante</td>\n",
       "      <td>Corey Feldman, Tony Todd, Tara Leigh, Erin Way...</td>\n",
       "      <td>United States</td>\n",
       "      <td>November 18, 2009</td>\n",
       "      <td>2009</td>\n",
       "      <td>TV-14</td>\n",
       "      <td>29</td>\n",
       "      <td>Horror Movies</td>\n",
       "      <td>After committing suicide, a washed-up rocker r...</td>\n",
       "      <td>Movie</td>\n",
       "    </tr>\n",
       "    <tr>\n",
       "      <th>3937</th>\n",
       "      <td>5834</td>\n",
       "      <td>70084180</td>\n",
       "      <td>Just Another Love Story</td>\n",
       "      <td>Ole Bornedal</td>\n",
       "      <td>Anders W. Berthelsen, Rebecka Hemse, Nikolaj L...</td>\n",
       "      <td>Denmark</td>\n",
       "      <td>May 5, 2009</td>\n",
       "      <td>2007</td>\n",
       "      <td>NR</td>\n",
       "      <td>104</td>\n",
       "      <td>Dramas, International Movies</td>\n",
       "      <td>When he causes a car accident that leaves a yo...</td>\n",
       "      <td>Movie</td>\n",
       "    </tr>\n",
       "    <tr>\n",
       "      <th>3938</th>\n",
       "      <td>5836</td>\n",
       "      <td>70053412</td>\n",
       "      <td>To and From New York</td>\n",
       "      <td>Sorin Dan Mihalcescu</td>\n",
       "      <td>Barbara King, Shaana Diya, John Krisiukenas, Y...</td>\n",
       "      <td>United States</td>\n",
       "      <td>January 1, 2008</td>\n",
       "      <td>2006</td>\n",
       "      <td>NR</td>\n",
       "      <td>81</td>\n",
       "      <td>Dramas, Independent Movies, Thrillers</td>\n",
       "      <td>While covering a story in New York City, a Sea...</td>\n",
       "      <td>Movie</td>\n",
       "    </tr>\n",
       "  </tbody>\n",
       "</table>\n",
       "<p>4273 rows × 13 columns</p>\n",
       "</div>"
      ],
      "text/plain": [
       "      Unnamed: 0   show_id                        title              director  \\\n",
       "1              2  81213894              The Zoya Factor       Abhishek Sharma   \n",
       "2              3  81082007                    Atlantics             Mati Diop   \n",
       "2              3  81082007                    Atlantics             Mati Diop   \n",
       "2              3  81082007                    Atlantics             Mati Diop   \n",
       "3              5  81172754                 Crazy people          Moses Inwang   \n",
       "...          ...       ...                          ...                   ...   \n",
       "3934        5831  70154110                Even the Rain         Icíar Bollaín   \n",
       "3935        5832  70141644  Mad Ron's Prevues from Hell            Jim Monaco   \n",
       "3936        5833  70127998                     Splatter             Joe Dante   \n",
       "3937        5834  70084180      Just Another Love Story          Ole Bornedal   \n",
       "3938        5836  70053412         To and From New York  Sorin Dan Mihalcescu   \n",
       "\n",
       "                                                   cast        country  \\\n",
       "1     Sonam Kapoor, Dulquer Salmaan, Sanjay Kapoor, ...          India   \n",
       "2     Mama Sane, Amadou Mbow, Ibrahima Traore, Nicol...         France   \n",
       "2     Mama Sane, Amadou Mbow, Ibrahima Traore, Nicol...        Senegal   \n",
       "2     Mama Sane, Amadou Mbow, Ibrahima Traore, Nicol...        Belgium   \n",
       "3     Ramsey Nouah, Chigul, Sola Sobowale, Ireti Doy...        Nigeria   \n",
       "...                                                 ...            ...   \n",
       "3934  Luis Tosar, Gael García Bernal, Juan Carlos Ad...         France   \n",
       "3935  Nick Pawlow, Jordu Schell, Jay Kushwara, Micha...  United States   \n",
       "3936  Corey Feldman, Tony Todd, Tara Leigh, Erin Way...  United States   \n",
       "3937  Anders W. Berthelsen, Rebecka Hemse, Nikolaj L...        Denmark   \n",
       "3938  Barbara King, Shaana Diya, John Krisiukenas, Y...  United States   \n",
       "\n",
       "             date_added  release_year rating duration  \\\n",
       "1     November 30, 2019          2019  TV-14      135   \n",
       "2     November 29, 2019          2019  TV-14      106   \n",
       "2     November 29, 2019          2019  TV-14      106   \n",
       "2     November 29, 2019          2019  TV-14      106   \n",
       "3     November 29, 2019          2018  TV-14      107   \n",
       "...                 ...           ...    ...      ...   \n",
       "3934       May 17, 2011          2010     NR      103   \n",
       "3935   November 1, 2010          1987     NR       84   \n",
       "3936  November 18, 2009          2009  TV-14       29   \n",
       "3937        May 5, 2009          2007     NR      104   \n",
       "3938    January 1, 2008          2006     NR       81   \n",
       "\n",
       "                                             listed_in  \\\n",
       "1               Comedies, Dramas, International Movies   \n",
       "2     Dramas, Independent Movies, International Movies   \n",
       "2     Dramas, Independent Movies, International Movies   \n",
       "2     Dramas, Independent Movies, International Movies   \n",
       "3            Comedies, International Movies, Thrillers   \n",
       "...                                                ...   \n",
       "3934                      Dramas, International Movies   \n",
       "3935                        Cult Movies, Horror Movies   \n",
       "3936                                     Horror Movies   \n",
       "3937                      Dramas, International Movies   \n",
       "3938             Dramas, Independent Movies, Thrillers   \n",
       "\n",
       "                                            description   type  \n",
       "1     A goofy copywriter unwittingly convinces the I...  Movie  \n",
       "2     Arranged to marry a rich man, young Ada is cru...  Movie  \n",
       "2     Arranged to marry a rich man, young Ada is cru...  Movie  \n",
       "2     Arranged to marry a rich man, young Ada is cru...  Movie  \n",
       "3     Nollywood star Ramsey Nouah learns that someon...  Movie  \n",
       "...                                                 ...    ...  \n",
       "3934  While making a film about the incursion of Chr...  Movie  \n",
       "3935  This collection cherry-picks trailers, forgott...  Movie  \n",
       "3936  After committing suicide, a washed-up rocker r...  Movie  \n",
       "3937  When he causes a car accident that leaves a yo...  Movie  \n",
       "3938  While covering a story in New York City, a Sea...  Movie  \n",
       "\n",
       "[4273 rows x 13 columns]"
      ]
     },
     "execution_count": 5,
     "metadata": {},
     "output_type": "execute_result"
    }
   ],
   "source": [
    "df"
   ]
  },
  {
   "cell_type": "code",
   "execution_count": 6,
   "id": "c365c8e1-a0f3-43b5-8b91-58d48ed04dec",
   "metadata": {},
   "outputs": [],
   "source": [
    "df.to_csv('../data/processed/sufang_clean_df.csv')  "
   ]
  },
  {
   "cell_type": "code",
   "execution_count": 51,
   "id": "724ecca5-c59c-4d02-9ce9-d5121a5addff",
   "metadata": {},
   "outputs": [
    {
     "ename": "SyntaxError",
     "evalue": "invalid syntax (2623129341.py, line 19)",
     "output_type": "error",
     "traceback": [
      "\u001b[0;36m  File \u001b[0;32m\"/var/folders/gh/xb22d2d96ws59gxrvc0knjdw0000gp/T/ipykernel_15900/2623129341.py\"\u001b[0;36m, line \u001b[0;32m19\u001b[0m\n\u001b[0;31m    def plot_altair(year_range, duration_range):\u001b[0m\n\u001b[0m    ^\u001b[0m\n\u001b[0;31mSyntaxError\u001b[0m\u001b[0;31m:\u001b[0m invalid syntax\n"
     ]
    }
   ],
   "source": [
    "app = Dash(__name__)\n",
    "server = app.server \n",
    "\n",
    "app.layout = html.Div([\n",
    "        dbc.Label(\"Year\", html_for=\"range-slider\"),\n",
    "        dcc.RangeSlider(min(df['release_year']), max(df['release_year']), marks=None, value=[1995, 2020],id='year'),\n",
    "        \n",
    "        dbc.Label(\"Duration\", html_for=\"range-slider\"),\n",
    "        dcc.RangeSlider(min(df['duration']), max(df['duration']), marks=None, value=[60, 120],id='duration'),\n",
    "        html.Iframe(\n",
    "            id='bar',\n",
    "            style={'border-width': '0', 'width': '100%', 'height': '400px'})]\n",
    "\n",
    "@app.callback(\n",
    "    Output('bar', 'srcDoc'),\n",
    "    Input('range-slider','value'),\n",
    "    Input('range-slider','value'))\n",
    "\n",
    "def plot_altair(year_range, duration_range):\n",
    "    chart = alt.Chart(df[(df[\"release_year\"] > year_range[0])\n",
    "                & (df[\"release_year\"] < year_range[1]) \n",
    "                & (df[\"duration\"] > duration_range[0])\n",
    "                & (df[\"duration\"] < duration_range[1])],\n",
    "        title='Which Country Make the Most Movies ?').mark_bar().encode(\n",
    "    alt.X('country', sort='y', title='Country'),\n",
    "    alt.Y('count()', title='Number of Movies Produced')\n",
    "    ).interactive()\n",
    "    return chart.to_html()\n",
    "\n",
    "if __name__ == '__main__':\n",
    "    app.run_server(debug=True)"
   ]
  },
  {
   "cell_type": "code",
   "execution_count": 77,
   "id": "a3bcffa1-0edc-43b9-8ecc-87bfb37ee196",
   "metadata": {},
   "outputs": [
    {
     "data": {
      "text/plain": [
       "1942"
      ]
     },
     "execution_count": 77,
     "metadata": {},
     "output_type": "execute_result"
    }
   ],
   "source": [
    "min(df['release_year'])"
   ]
  },
  {
   "cell_type": "code",
   "execution_count": 22,
   "id": "cadb15fe-bedc-4b57-8f34-4aed238a9435",
   "metadata": {},
   "outputs": [
    {
     "data": {
      "text/html": [
       "\n",
       "<div id=\"altair-viz-256fcea0d6e140efaf4e82b8264fa2ba\"></div>\n",
       "<script type=\"text/javascript\">\n",
       "  var VEGA_DEBUG = (typeof VEGA_DEBUG == \"undefined\") ? {} : VEGA_DEBUG;\n",
       "  (function(spec, embedOpt){\n",
       "    let outputDiv = document.currentScript.previousElementSibling;\n",
       "    if (outputDiv.id !== \"altair-viz-256fcea0d6e140efaf4e82b8264fa2ba\") {\n",
       "      outputDiv = document.getElementById(\"altair-viz-256fcea0d6e140efaf4e82b8264fa2ba\");\n",
       "    }\n",
       "    const paths = {\n",
       "      \"vega\": \"https://cdn.jsdelivr.net/npm//vega@5?noext\",\n",
       "      \"vega-lib\": \"https://cdn.jsdelivr.net/npm//vega-lib?noext\",\n",
       "      \"vega-lite\": \"https://cdn.jsdelivr.net/npm//vega-lite@4.17.0?noext\",\n",
       "      \"vega-embed\": \"https://cdn.jsdelivr.net/npm//vega-embed@6?noext\",\n",
       "    };\n",
       "\n",
       "    function maybeLoadScript(lib, version) {\n",
       "      var key = `${lib.replace(\"-\", \"\")}_version`;\n",
       "      return (VEGA_DEBUG[key] == version) ?\n",
       "        Promise.resolve(paths[lib]) :\n",
       "        new Promise(function(resolve, reject) {\n",
       "          var s = document.createElement('script');\n",
       "          document.getElementsByTagName(\"head\")[0].appendChild(s);\n",
       "          s.async = true;\n",
       "          s.onload = () => {\n",
       "            VEGA_DEBUG[key] = version;\n",
       "            return resolve(paths[lib]);\n",
       "          };\n",
       "          s.onerror = () => reject(`Error loading script: ${paths[lib]}`);\n",
       "          s.src = paths[lib];\n",
       "        });\n",
       "    }\n",
       "\n",
       "    function showError(err) {\n",
       "      outputDiv.innerHTML = `<div class=\"error\" style=\"color:red;\">${err}</div>`;\n",
       "      throw err;\n",
       "    }\n",
       "\n",
       "    function displayChart(vegaEmbed) {\n",
       "      vegaEmbed(outputDiv, spec, embedOpt)\n",
       "        .catch(err => showError(`Javascript Error: ${err.message}<br>This usually means there's a typo in your chart specification. See the javascript console for the full traceback.`));\n",
       "    }\n",
       "\n",
       "    if(typeof define === \"function\" && define.amd) {\n",
       "      requirejs.config({paths});\n",
       "      require([\"vega-embed\"], displayChart, err => showError(`Error loading script: ${err.message}`));\n",
       "    } else {\n",
       "      maybeLoadScript(\"vega\", \"5\")\n",
       "        .then(() => maybeLoadScript(\"vega-lite\", \"4.17.0\"))\n",
       "        .then(() => maybeLoadScript(\"vega-embed\", \"6\"))\n",
       "        .catch(showError)\n",
       "        .then(() => displayChart(vegaEmbed));\n",
       "    }\n",
       "  })({\"config\": {\"view\": {\"continuousWidth\": 400, \"continuousHeight\": 300}}, \"data\": {\"name\": \"data-69299e128426570e6b4fd51f1cbe7e05\"}, \"mark\": \"bar\", \"encoding\": {\"x\": {\"field\": \"country\", \"sort\": \"y\", \"title\": \"Country\", \"type\": \"nominal\"}, \"y\": {\"aggregate\": \"count\", \"title\": \"Number of Movies Produced\", \"type\": \"quantitative\"}}, \"title\": \"Which Country Make the Most Movies ?\", \"$schema\": \"https://vega.github.io/schema/vega-lite/v4.17.0.json\", \"datasets\": {\"data-69299e128426570e6b4fd51f1cbe7e05\": [{\"Unnamed: 0\": 1, \"show_id\": 81197050, \"title\": \"Guatemala: Heart of the Mayan World\", \"director\": \"Luis Ara, Ignacio Jaunsolo\", \"cast\": \"Christian Morales\", \"country\": null, \"date_added\": \"November 30, 2019\", \"release_year\": 2019, \"rating\": \"TV-G\", \"duration\": \"67 min\", \"listed_in\": \"Documentaries, International Movies\", \"description\": \"From Sierra de las Minas to Esquipulas, explore Guatemala's cultural and geological wealth, including ancient Mayan cities and other natural wonders.\", \"type\": \"Movie\"}, {\"Unnamed: 0\": 2, \"show_id\": 81213894, \"title\": \"The Zoya Factor\", \"director\": \"Abhishek Sharma\", \"cast\": \"Sonam Kapoor, Dulquer Salmaan, Sanjay Kapoor, Sikander Kher, Angad Bedi, Koel Purie, Pooja Bhamrah, Manu Rishi Chadha\", \"country\": \"India\", \"date_added\": \"November 30, 2019\", \"release_year\": 2019, \"rating\": \"TV-14\", \"duration\": \"135 min\", \"listed_in\": \"Comedies, Dramas, International Movies\", \"description\": \"A goofy copywriter unwittingly convinces the Indian cricket team that she\\u2019s their lucky mascot, to the dismay of their superstition-shunning captain.\", \"type\": \"Movie\"}, {\"Unnamed: 0\": 3, \"show_id\": 81082007, \"title\": \"Atlantics\", \"director\": \"Mati Diop\", \"cast\": \"Mama Sane, Amadou Mbow, Ibrahima Traore, Nicole Sougou, Amina Kane, Mariama Gassama, Coumba Dieng, Ibrahima Mbaye, Diankou Sembene\", \"country\": \"France, Senegal, Belgium\", \"date_added\": \"November 29, 2019\", \"release_year\": 2019, \"rating\": \"TV-14\", \"duration\": \"106 min\", \"listed_in\": \"Dramas, Independent Movies, International Movies\", \"description\": \"Arranged to marry a rich man, young Ada is crushed when her true love goes missing at sea during a migration attempt \\u2013 until a miracle reunites them.\", \"type\": \"Movie\"}, {\"Unnamed: 0\": 5, \"show_id\": 81172754, \"title\": \"Crazy people\", \"director\": \"Moses Inwang\", \"cast\": \"Ramsey Nouah, Chigul, Sola Sobowale, Ireti Doyle, Ben Touitou, Francis Onwochei, Ememobong Nkana, Emem Inwang, Patrick Onyeke\", \"country\": \"Nigeria\", \"date_added\": \"November 29, 2019\", \"release_year\": 2018, \"rating\": \"TV-14\", \"duration\": \"107 min\", \"listed_in\": \"Comedies, International Movies, Thrillers\", \"description\": \"Nollywood star Ramsey Nouah learns that someone is impersonating him and breaks out of a mental institution to expose the imposter.\", \"type\": \"Movie\"}, {\"Unnamed: 0\": 6, \"show_id\": 81120982, \"title\": \"I Lost My Body\", \"director\": \"J\\u00e9r\\u00e9my Clapin\", \"cast\": \"Hakim Faris, Victoire Du Bois, Patrick d'Assum\\u00e7ao, Dev Patel, Alia Shawkat, George Wendt\", \"country\": \"France\", \"date_added\": \"November 29, 2019\", \"release_year\": 2019, \"rating\": \"TV-MA\", \"duration\": \"81 min\", \"listed_in\": \"Dramas, Independent Movies, International Movies\", \"description\": \"Romance, mystery and adventure intertwine as a young man falls in love and a severed hand scours Paris for its owner in this mesmerizing animated film.\", \"type\": \"Movie\"}, {\"Unnamed: 0\": 7, \"show_id\": 81227195, \"title\": \"Kalushi: The Story of Solomon Mahlangu\", \"director\": \"Mandla Dube\", \"cast\": \"Thabo Rametsi, Thabo Malema, Welile Nzuza, Jafta Mamabolo, Louw Venter, Pearl Thusi\", \"country\": \"South Africa\", \"date_added\": \"November 29, 2019\", \"release_year\": 2016, \"rating\": \"TV-MA\", \"duration\": \"107 min\", \"listed_in\": \"Dramas, International Movies\", \"description\": \"The life and times of iconic South African liberation fighter Solomon Mahlangu, who battled the forces of apartheid, come into focus.\", \"type\": \"Movie\"}, {\"Unnamed: 0\": 9, \"show_id\": 81172841, \"title\": \"Lagos Real Fake Life\", \"director\": \"Mike Ezuruonye\", \"cast\": \"Nonso Diobi, Mike Ezuruonye, Mercy Aigbe, Rex Nosa, Annie Macaulay Idibia, Ik Ogbonna, Nedu Wazobia, Uzee Usman, Odunlade Adekola, Mr Jollof, Efe Irele, Josh 2 Funny, Haillie Sumney, Emmanuella, MC Lively\", \"country\": null, \"date_added\": \"November 29, 2019\", \"release_year\": 2018, \"rating\": \"TV-14\", \"duration\": \"118 min\", \"listed_in\": \"Comedies, International Movies\", \"description\": \"Two mooching friends vie for the attention of wealthy, beautiful women only to discover that their lavish lifestyles are bogus.\", \"type\": \"Movie\"}, {\"Unnamed: 0\": 10, \"show_id\": 81172899, \"title\": \"Payday\", \"director\": \"Cheta Chukwu\", \"cast\": \"Baaj Adebule, Ebiye Victor, Meg Otanwa, Bisola Aiyeola, Mawuli Gavor, Zack Orji, Segilola Ogidan\", \"country\": \"Nigeria\", \"date_added\": \"November 29, 2019\", \"release_year\": 2018, \"rating\": \"TV-MA\", \"duration\": \"110 min\", \"listed_in\": \"Comedies, Independent Movies, International Movies\", \"description\": \"After an expensive night out, two flatmates get tangled in an overnight misadventure to recover their rent money to pay their dead landlord's daughter.\", \"type\": \"Movie\"}, {\"Unnamed: 0\": 12, \"show_id\": 81172908, \"title\": \"The Accidental Spy\", \"director\": \"Roger Russell\", \"cast\": \"Ramsey Nouah, Christine Allado, Ayo Makun, Emmanuel Edunjobi, Thenjiwe Moseley, Miguel A. N\\u00fa\\u00f1ez Jr., Bucci Franklin\", \"country\": \"Nigeria\", \"date_added\": \"November 29, 2019\", \"release_year\": 2017, \"rating\": \"TV-14\", \"duration\": \"104 min\", \"listed_in\": \"Action & Adventure, Comedies, International Movies\", \"description\": \"Nursing a broken heart, an IT specialist moves to London to audition for a reality TV show that unexpectedly turns into a real-life cartel drama.\", \"type\": \"Movie\"}, {\"Unnamed: 0\": 14, \"show_id\": 81172901, \"title\": \"The Island\", \"director\": \"Toka McBaror\", \"cast\": \"Sambasa Nzeribe, Segun Arinze, Tokunbo Idowu, Femi Adebayo\", \"country\": \"Nigeria\", \"date_added\": \"November 29, 2019\", \"release_year\": 2018, \"rating\": \"TV-14\", \"duration\": \"93 min\", \"listed_in\": \"Dramas, International Movies, Thrillers\", \"description\": \"When a colonel uncovers controversial intel about the government, he makes a shocking discovery and must decide whether to reveal it or risk his life.\", \"type\": \"Movie\"}]}}, {\"mode\": \"vega-lite\"});\n",
       "</script>"
      ],
      "text/plain": [
       "alt.Chart(...)"
      ]
     },
     "execution_count": 22,
     "metadata": {},
     "output_type": "execute_result"
    }
   ],
   "source": [
    "alt.Chart(a,title='Which Country Make the Most Movies ?').mark_bar().encode(\n",
    "    alt.X('country', sort='y', title='Country'),\n",
    "    alt.Y('count()', title='Number of Movies Produced')\n",
    ")"
   ]
  },
  {
   "cell_type": "code",
   "execution_count": null,
   "id": "fe047191-6c95-49de-833c-0e8399e2f935",
   "metadata": {},
   "outputs": [],
   "source": []
  }
 ],
 "metadata": {
  "kernelspec": {
   "display_name": "Python 3 (ipykernel)",
   "language": "python",
   "name": "python3"
  },
  "language_info": {
   "codemirror_mode": {
    "name": "ipython",
    "version": 3
   },
   "file_extension": ".py",
   "mimetype": "text/x-python",
   "name": "python",
   "nbconvert_exporter": "python",
   "pygments_lexer": "ipython3",
   "version": "3.9.9"
  }
 },
 "nbformat": 4,
 "nbformat_minor": 5
}
